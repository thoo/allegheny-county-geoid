{
 "cells": [
  {
   "cell_type": "code",
   "execution_count": 1,
   "metadata": {
    "ExecuteTime": {
     "end_time": "2019-03-04T02:18:33.672145Z",
     "start_time": "2019-03-04T02:18:33.524170Z"
    }
   },
   "outputs": [],
   "source": [
    "import numpy as np\n",
    "import pandas as pd\n",
    "import geopandas as gpd"
   ]
  },
  {
   "cell_type": "code",
   "execution_count": 1,
   "metadata": {
    "ExecuteTime": {
     "end_time": "2019-03-04T23:38:03.579202Z",
     "start_time": "2019-03-04T23:38:03.575549Z"
    }
   },
   "outputs": [],
   "source": [
    "import os\n",
    "if not os.path.exists('data'):\n",
    "    os.makedirs('data')"
   ]
  },
  {
   "cell_type": "markdown",
   "metadata": {},
   "source": [
    "## Download Census Tracts from [US Census](https://www.census.gov/geo/maps-data/data/cbf/cbf_tracts.html) and unzip at data folder."
   ]
  },
  {
   "cell_type": "code",
   "execution_count": 33,
   "metadata": {
    "ExecuteTime": {
     "end_time": "2019-03-04T02:47:50.144967Z",
     "start_time": "2019-03-04T02:47:49.988310Z"
    }
   },
   "outputs": [],
   "source": [
    "PA = gpd.read_file('data/cb_2017_42_tract_500k.shp')"
   ]
  },
  {
   "cell_type": "code",
   "execution_count": 34,
   "metadata": {
    "ExecuteTime": {
     "end_time": "2019-03-04T02:47:50.420008Z",
     "start_time": "2019-03-04T02:47:50.404522Z"
    }
   },
   "outputs": [
    {
     "data": {
      "text/html": [
       "<div>\n",
       "<style scoped>\n",
       "    .dataframe tbody tr th:only-of-type {\n",
       "        vertical-align: middle;\n",
       "    }\n",
       "\n",
       "    .dataframe tbody tr th {\n",
       "        vertical-align: top;\n",
       "    }\n",
       "\n",
       "    .dataframe thead th {\n",
       "        text-align: right;\n",
       "    }\n",
       "</style>\n",
       "<table border=\"1\" class=\"dataframe\">\n",
       "  <thead>\n",
       "    <tr style=\"text-align: right;\">\n",
       "      <th></th>\n",
       "      <th>STATEFP</th>\n",
       "      <th>COUNTYFP</th>\n",
       "      <th>TRACTCE</th>\n",
       "      <th>AFFGEOID</th>\n",
       "      <th>GEOID</th>\n",
       "      <th>NAME</th>\n",
       "      <th>LSAD</th>\n",
       "      <th>ALAND</th>\n",
       "      <th>AWATER</th>\n",
       "      <th>geometry</th>\n",
       "    </tr>\n",
       "  </thead>\n",
       "  <tbody>\n",
       "    <tr>\n",
       "      <th>0</th>\n",
       "      <td>42</td>\n",
       "      <td>003</td>\n",
       "      <td>020100</td>\n",
       "      <td>1400000US42003020100</td>\n",
       "      <td>42003020100</td>\n",
       "      <td>201</td>\n",
       "      <td>CT</td>\n",
       "      <td>1678102</td>\n",
       "      <td>483177</td>\n",
       "      <td>POLYGON ((-80.014573 40.442975, -80.0090989999...</td>\n",
       "    </tr>\n",
       "    <tr>\n",
       "      <th>1</th>\n",
       "      <td>42</td>\n",
       "      <td>003</td>\n",
       "      <td>051100</td>\n",
       "      <td>1400000US42003051100</td>\n",
       "      <td>42003051100</td>\n",
       "      <td>511</td>\n",
       "      <td>CT</td>\n",
       "      <td>190118</td>\n",
       "      <td>0</td>\n",
       "      <td>POLYGON ((-79.97927299999999 40.442872, -79.97...</td>\n",
       "    </tr>\n",
       "    <tr>\n",
       "      <th>2</th>\n",
       "      <td>42</td>\n",
       "      <td>003</td>\n",
       "      <td>070800</td>\n",
       "      <td>1400000US42003070800</td>\n",
       "      <td>42003070800</td>\n",
       "      <td>708</td>\n",
       "      <td>CT</td>\n",
       "      <td>446679</td>\n",
       "      <td>0</td>\n",
       "      <td>POLYGON ((-79.92510399999999 40.45899199999999...</td>\n",
       "    </tr>\n",
       "    <tr>\n",
       "      <th>3</th>\n",
       "      <td>42</td>\n",
       "      <td>003</td>\n",
       "      <td>080700</td>\n",
       "      <td>1400000US42003080700</td>\n",
       "      <td>42003080700</td>\n",
       "      <td>807</td>\n",
       "      <td>CT</td>\n",
       "      <td>275058</td>\n",
       "      <td>0</td>\n",
       "      <td>POLYGON ((-79.936736 40.459446, -79.936302 40....</td>\n",
       "    </tr>\n",
       "    <tr>\n",
       "      <th>4</th>\n",
       "      <td>42</td>\n",
       "      <td>003</td>\n",
       "      <td>130100</td>\n",
       "      <td>1400000US42003130100</td>\n",
       "      <td>42003130100</td>\n",
       "      <td>1301</td>\n",
       "      <td>CT</td>\n",
       "      <td>772138</td>\n",
       "      <td>0</td>\n",
       "      <td>POLYGON ((-79.900936 40.458951, -79.8990269999...</td>\n",
       "    </tr>\n",
       "  </tbody>\n",
       "</table>\n",
       "</div>"
      ],
      "text/plain": [
       "  STATEFP COUNTYFP TRACTCE              AFFGEOID        GEOID  NAME LSAD  \\\n",
       "0      42      003  020100  1400000US42003020100  42003020100   201   CT   \n",
       "1      42      003  051100  1400000US42003051100  42003051100   511   CT   \n",
       "2      42      003  070800  1400000US42003070800  42003070800   708   CT   \n",
       "3      42      003  080700  1400000US42003080700  42003080700   807   CT   \n",
       "4      42      003  130100  1400000US42003130100  42003130100  1301   CT   \n",
       "\n",
       "     ALAND  AWATER                                           geometry  \n",
       "0  1678102  483177  POLYGON ((-80.014573 40.442975, -80.0090989999...  \n",
       "1   190118       0  POLYGON ((-79.97927299999999 40.442872, -79.97...  \n",
       "2   446679       0  POLYGON ((-79.92510399999999 40.45899199999999...  \n",
       "3   275058       0  POLYGON ((-79.936736 40.459446, -79.936302 40....  \n",
       "4   772138       0  POLYGON ((-79.900936 40.458951, -79.8990269999...  "
      ]
     },
     "execution_count": 34,
     "metadata": {},
     "output_type": "execute_result"
    }
   ],
   "source": [
    "PA.head()"
   ]
  },
  {
   "cell_type": "code",
   "execution_count": 35,
   "metadata": {
    "ExecuteTime": {
     "end_time": "2019-03-04T02:47:50.969522Z",
     "start_time": "2019-03-04T02:47:50.962935Z"
    }
   },
   "outputs": [
    {
     "data": {
      "text/plain": [
       "402"
      ]
     },
     "execution_count": 35,
     "metadata": {},
     "output_type": "execute_result"
    }
   ],
   "source": [
    "len(PA[PA['COUNTYFP'] == '003'])"
   ]
  },
  {
   "cell_type": "code",
   "execution_count": 71,
   "metadata": {
    "ExecuteTime": {
     "end_time": "2019-03-04T03:42:55.852112Z",
     "start_time": "2019-03-04T03:42:55.836069Z"
    }
   },
   "outputs": [],
   "source": [
    "alle = PA[PA['COUNTYFP'] == '003'].copy()"
   ]
  },
  {
   "cell_type": "code",
   "execution_count": 72,
   "metadata": {
    "ExecuteTime": {
     "end_time": "2019-03-04T03:42:56.267552Z",
     "start_time": "2019-03-04T03:42:56.240696Z"
    }
   },
   "outputs": [
    {
     "data": {
      "text/html": [
       "<div>\n",
       "<style scoped>\n",
       "    .dataframe tbody tr th:only-of-type {\n",
       "        vertical-align: middle;\n",
       "    }\n",
       "\n",
       "    .dataframe tbody tr th {\n",
       "        vertical-align: top;\n",
       "    }\n",
       "\n",
       "    .dataframe thead th {\n",
       "        text-align: right;\n",
       "    }\n",
       "</style>\n",
       "<table border=\"1\" class=\"dataframe\">\n",
       "  <thead>\n",
       "    <tr style=\"text-align: right;\">\n",
       "      <th></th>\n",
       "      <th>STATEFP</th>\n",
       "      <th>COUNTYFP</th>\n",
       "      <th>TRACTCE</th>\n",
       "      <th>AFFGEOID</th>\n",
       "      <th>GEOID</th>\n",
       "      <th>NAME</th>\n",
       "      <th>LSAD</th>\n",
       "      <th>ALAND</th>\n",
       "      <th>AWATER</th>\n",
       "      <th>geometry</th>\n",
       "    </tr>\n",
       "  </thead>\n",
       "  <tbody>\n",
       "    <tr>\n",
       "      <th>0</th>\n",
       "      <td>42</td>\n",
       "      <td>003</td>\n",
       "      <td>020100</td>\n",
       "      <td>1400000US42003020100</td>\n",
       "      <td>42003020100</td>\n",
       "      <td>201</td>\n",
       "      <td>CT</td>\n",
       "      <td>1678102</td>\n",
       "      <td>483177</td>\n",
       "      <td>POLYGON ((-80.014573 40.442975, -80.0090989999...</td>\n",
       "    </tr>\n",
       "    <tr>\n",
       "      <th>1</th>\n",
       "      <td>42</td>\n",
       "      <td>003</td>\n",
       "      <td>051100</td>\n",
       "      <td>1400000US42003051100</td>\n",
       "      <td>42003051100</td>\n",
       "      <td>511</td>\n",
       "      <td>CT</td>\n",
       "      <td>190118</td>\n",
       "      <td>0</td>\n",
       "      <td>POLYGON ((-79.97927299999999 40.442872, -79.97...</td>\n",
       "    </tr>\n",
       "    <tr>\n",
       "      <th>2</th>\n",
       "      <td>42</td>\n",
       "      <td>003</td>\n",
       "      <td>070800</td>\n",
       "      <td>1400000US42003070800</td>\n",
       "      <td>42003070800</td>\n",
       "      <td>708</td>\n",
       "      <td>CT</td>\n",
       "      <td>446679</td>\n",
       "      <td>0</td>\n",
       "      <td>POLYGON ((-79.92510399999999 40.45899199999999...</td>\n",
       "    </tr>\n",
       "    <tr>\n",
       "      <th>3</th>\n",
       "      <td>42</td>\n",
       "      <td>003</td>\n",
       "      <td>080700</td>\n",
       "      <td>1400000US42003080700</td>\n",
       "      <td>42003080700</td>\n",
       "      <td>807</td>\n",
       "      <td>CT</td>\n",
       "      <td>275058</td>\n",
       "      <td>0</td>\n",
       "      <td>POLYGON ((-79.936736 40.459446, -79.936302 40....</td>\n",
       "    </tr>\n",
       "    <tr>\n",
       "      <th>4</th>\n",
       "      <td>42</td>\n",
       "      <td>003</td>\n",
       "      <td>130100</td>\n",
       "      <td>1400000US42003130100</td>\n",
       "      <td>42003130100</td>\n",
       "      <td>1301</td>\n",
       "      <td>CT</td>\n",
       "      <td>772138</td>\n",
       "      <td>0</td>\n",
       "      <td>POLYGON ((-79.900936 40.458951, -79.8990269999...</td>\n",
       "    </tr>\n",
       "  </tbody>\n",
       "</table>\n",
       "</div>"
      ],
      "text/plain": [
       "  STATEFP COUNTYFP TRACTCE              AFFGEOID        GEOID  NAME LSAD  \\\n",
       "0      42      003  020100  1400000US42003020100  42003020100   201   CT   \n",
       "1      42      003  051100  1400000US42003051100  42003051100   511   CT   \n",
       "2      42      003  070800  1400000US42003070800  42003070800   708   CT   \n",
       "3      42      003  080700  1400000US42003080700  42003080700   807   CT   \n",
       "4      42      003  130100  1400000US42003130100  42003130100  1301   CT   \n",
       "\n",
       "     ALAND  AWATER                                           geometry  \n",
       "0  1678102  483177  POLYGON ((-80.014573 40.442975, -80.0090989999...  \n",
       "1   190118       0  POLYGON ((-79.97927299999999 40.442872, -79.97...  \n",
       "2   446679       0  POLYGON ((-79.92510399999999 40.45899199999999...  \n",
       "3   275058       0  POLYGON ((-79.936736 40.459446, -79.936302 40....  \n",
       "4   772138       0  POLYGON ((-79.900936 40.458951, -79.8990269999...  "
      ]
     },
     "execution_count": 72,
     "metadata": {},
     "output_type": "execute_result"
    }
   ],
   "source": [
    "alle.head()"
   ]
  },
  {
   "cell_type": "code",
   "execution_count": 73,
   "metadata": {
    "ExecuteTime": {
     "end_time": "2019-03-04T03:42:56.658510Z",
     "start_time": "2019-03-04T03:42:56.648645Z"
    }
   },
   "outputs": [
    {
     "data": {
      "text/plain": [
       "{'geometry': 'Polygon',\n",
       " 'properties': OrderedDict([('STATEFP', 'str'),\n",
       "              ('COUNTYFP', 'str'),\n",
       "              ('TRACTCE', 'str'),\n",
       "              ('AFFGEOID', 'str'),\n",
       "              ('GEOID', 'str'),\n",
       "              ('NAME', 'str'),\n",
       "              ('LSAD', 'str'),\n",
       "              ('ALAND', 'int'),\n",
       "              ('AWATER', 'int')])}"
      ]
     },
     "execution_count": 73,
     "metadata": {},
     "output_type": "execute_result"
    }
   ],
   "source": [
    "schema = gpd.io.file.infer_schema(alle)\n",
    "schema"
   ]
  },
  {
   "cell_type": "code",
   "execution_count": 82,
   "metadata": {
    "ExecuteTime": {
     "end_time": "2019-03-04T03:54:58.582193Z",
     "start_time": "2019-03-04T03:54:58.457132Z"
    }
   },
   "outputs": [
    {
     "name": "stdout",
     "output_type": "stream",
     "text": [
      "Allegheny_County_Census_Tracts_2017.json\r\n",
      "\u001b[1m\u001b[36mAllgeheny_shapefile\u001b[m\u001b[m/\r\n",
      "cb_2017_42_tract_500k.cpg\r\n",
      "cb_2017_42_tract_500k.dbf\r\n",
      "cb_2017_42_tract_500k.prj\r\n",
      "cb_2017_42_tract_500k.shp\r\n",
      "\u001b[31mcb_2017_42_tract_500k.shp.ea.iso.xml\u001b[m\u001b[m*\r\n",
      "\u001b[31mcb_2017_42_tract_500k.shp.iso.xml\u001b[m\u001b[m*\r\n",
      "\u001b[31mcb_2017_42_tract_500k.shp.xml\u001b[m\u001b[m*\r\n",
      "cb_2017_42_tract_500k.shx\r\n"
     ]
    }
   ],
   "source": [
    "ls data/"
   ]
  },
  {
   "cell_type": "code",
   "execution_count": 80,
   "metadata": {
    "ExecuteTime": {
     "end_time": "2019-03-04T03:54:39.758577Z",
     "start_time": "2019-03-04T03:54:39.524202Z"
    }
   },
   "outputs": [
    {
     "name": "stderr",
     "output_type": "stream",
     "text": [
      "/Users/thein/anaconda3/lib/python3.6/site-packages/geopandas/io/file.py:108: FionaDeprecationWarning: Use fiona.Env() instead.\n",
      "  with fiona.drivers():\n"
     ]
    }
   ],
   "source": [
    "alle.to_file('data/Allgeheny_shapefile/Allegheny_County_Census_Tracts_2017.shp',\n",
    "             driver = 'ESRI Shapefile')"
   ]
  },
  {
   "cell_type": "markdown",
   "metadata": {},
   "source": [
    "## Use [Mapshaper](https://mapshaper.org/) to convert to geojson file."
   ]
  },
  {
   "cell_type": "code",
   "execution_count": 83,
   "metadata": {
    "ExecuteTime": {
     "end_time": "2019-03-04T03:55:03.622595Z",
     "start_time": "2019-03-04T03:55:03.618965Z"
    }
   },
   "outputs": [],
   "source": [
    "import ujson"
   ]
  },
  {
   "cell_type": "code",
   "execution_count": 85,
   "metadata": {
    "ExecuteTime": {
     "end_time": "2019-03-04T03:55:14.486245Z",
     "start_time": "2019-03-04T03:55:14.459516Z"
    }
   },
   "outputs": [],
   "source": [
    "alle_tract = ujson.load(open('data/Allegheny_County_Census_Tracts_2017.json'))"
   ]
  },
  {
   "cell_type": "code",
   "execution_count": 86,
   "metadata": {
    "ExecuteTime": {
     "end_time": "2019-03-04T03:55:15.525504Z",
     "start_time": "2019-03-04T03:55:15.520254Z"
    }
   },
   "outputs": [
    {
     "data": {
      "text/plain": [
       "dict_keys(['type', 'features'])"
      ]
     },
     "execution_count": 86,
     "metadata": {},
     "output_type": "execute_result"
    }
   ],
   "source": [
    "alle_tract.keys()"
   ]
  },
  {
   "cell_type": "code",
   "execution_count": 87,
   "metadata": {
    "ExecuteTime": {
     "end_time": "2019-03-04T03:56:17.309045Z",
     "start_time": "2019-03-04T03:56:17.304977Z"
    }
   },
   "outputs": [
    {
     "data": {
      "text/plain": [
       "'Polygon'"
      ]
     },
     "execution_count": 87,
     "metadata": {},
     "output_type": "execute_result"
    }
   ],
   "source": [
    "alle_tract['features'][0]['geometry']['type']"
   ]
  },
  {
   "cell_type": "code",
   "execution_count": 90,
   "metadata": {
    "ExecuteTime": {
     "end_time": "2019-03-04T03:56:38.319257Z",
     "start_time": "2019-03-04T03:56:38.311798Z"
    }
   },
   "outputs": [
    {
     "data": {
      "text/plain": [
       "{'type': 'Feature',\n",
       " 'geometry': {'type': 'Polygon',\n",
       "  'coordinates': [[[-80.003344, 40.445648],\n",
       "    [-80.001437, 40.446191999999996],\n",
       "    [-79.99976, 40.446678999999996],\n",
       "    [-79.997924, 40.447272999999996],\n",
       "    [-79.996133, 40.448181999999996],\n",
       "    [-79.99526999999999, 40.446884999999995],\n",
       "    [-79.994767, 40.446086],\n",
       "    [-79.994248, 40.445439],\n",
       "    [-79.99394, 40.445253],\n",
       "    [-79.990606, 40.445578999999995],\n",
       "    [-79.99049099999999, 40.445198999999995],\n",
       "    [-79.99080000000001, 40.444418999999996],\n",
       "    [-79.991824, 40.443368],\n",
       "    [-79.992744, 40.441337999999995],\n",
       "    [-79.99068299999999, 40.442873999999996],\n",
       "    [-79.988315, 40.443897],\n",
       "    [-79.988136, 40.44405],\n",
       "    [-79.98601, 40.44103],\n",
       "    [-79.985006, 40.439637999999995],\n",
       "    [-79.985057, 40.438542],\n",
       "    [-79.986462, 40.438607],\n",
       "    [-79.993899, 40.438927],\n",
       "    [-79.994584, 40.437163],\n",
       "    [-79.99471299999999, 40.435829999999996],\n",
       "    [-79.996572, 40.432900000000004],\n",
       "    [-79.996651, 40.432793],\n",
       "    [-79.998071, 40.433063],\n",
       "    [-80.000002, 40.433369],\n",
       "    [-80.00232199999999, 40.434566],\n",
       "    [-80.0102, 40.438628],\n",
       "    [-80.014217, 40.4407],\n",
       "    [-80.01629, 40.443207],\n",
       "    [-80.014573, 40.442975],\n",
       "    [-80.00909899999999, 40.444089],\n",
       "    [-80.00807999999999, 40.444297],\n",
       "    [-80.003344, 40.445648]]]},\n",
       " 'properties': {'STATEFP': '42',\n",
       "  'COUNTYFP': '003',\n",
       "  'TRACTCE': '020100',\n",
       "  'AFFGEOID': '1400000US42003020100',\n",
       "  'GEOID': '42003020100',\n",
       "  'NAME': '201',\n",
       "  'LSAD': 'CT',\n",
       "  'ALAND': 1678102,\n",
       "  'AWATER': 483177}}"
      ]
     },
     "execution_count": 90,
     "metadata": {},
     "output_type": "execute_result"
    }
   ],
   "source": [
    "alle_tract['features'][0]"
   ]
  },
  {
   "cell_type": "code",
   "execution_count": 92,
   "metadata": {
    "ExecuteTime": {
     "end_time": "2019-03-04T04:00:21.573352Z",
     "start_time": "2019-03-04T04:00:21.566247Z"
    }
   },
   "outputs": [
    {
     "data": {
      "text/plain": [
       "{'AeronavFAA': 'r',\n",
       " 'ARCGEN': 'r',\n",
       " 'BNA': 'raw',\n",
       " 'DXF': 'raw',\n",
       " 'CSV': 'raw',\n",
       " 'OpenFileGDB': 'r',\n",
       " 'ESRI Shapefile': 'raw',\n",
       " 'GeoJSON': 'rw',\n",
       " 'GPKG': 'rw',\n",
       " 'GML': 'raw',\n",
       " 'GPX': 'raw',\n",
       " 'GPSTrackMaker': 'raw',\n",
       " 'Idrisi': 'r',\n",
       " 'MapInfo File': 'raw',\n",
       " 'DGN': 'raw',\n",
       " 'PCIDSK': 'r',\n",
       " 'S57': 'r',\n",
       " 'SEGY': 'r',\n",
       " 'SUA': 'r'}"
      ]
     },
     "execution_count": 92,
     "metadata": {},
     "output_type": "execute_result"
    }
   ],
   "source": [
    "fiona.supported_drivers"
   ]
  },
  {
   "cell_type": "code",
   "execution_count": null,
   "metadata": {},
   "outputs": [],
   "source": []
  }
 ],
 "metadata": {
  "kernelspec": {
   "display_name": "Python 3",
   "language": "python",
   "name": "python3"
  },
  "language_info": {
   "codemirror_mode": {
    "name": "ipython",
    "version": 3
   },
   "file_extension": ".py",
   "mimetype": "text/x-python",
   "name": "python",
   "nbconvert_exporter": "python",
   "pygments_lexer": "ipython3",
   "version": "3.6.7"
  },
  "toc": {
   "base_numbering": 1,
   "nav_menu": {},
   "number_sections": false,
   "sideBar": false,
   "skip_h1_title": false,
   "title_cell": "Table of Contents",
   "title_sidebar": "Contents",
   "toc_cell": false,
   "toc_position": {},
   "toc_section_display": false,
   "toc_window_display": false
  }
 },
 "nbformat": 4,
 "nbformat_minor": 2
}
